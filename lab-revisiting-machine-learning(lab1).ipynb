{
 "cells": [
  {
   "cell_type": "code",
   "execution_count": 52,
   "id": "c3719cb2",
   "metadata": {},
   "outputs": [],
   "source": [
    "import pandas as pd\n",
    "import numpy as np\n",
    "import datetime\n",
    "import warnings\n",
    "import matplotlib.pyplot as plt\n",
    "import seaborn as sns"
   ]
  },
  {
   "cell_type": "code",
   "execution_count": 53,
   "id": "75b95129",
   "metadata": {},
   "outputs": [
    {
     "name": "stderr",
     "output_type": "stream",
     "text": [
      "C:\\Users\\Dmitr\\AppData\\Local\\Temp\\ipykernel_19284\\3363558361.py:1: DtypeWarning: Columns (8) have mixed types. Specify dtype option on import or set low_memory=False.\n",
      "  df = pd.read_csv('./learningSet.csv')\n"
     ]
    }
   ],
   "source": [
    "df = pd.read_csv('../class1/learningSet.csv')"
   ]
  },
  {
   "cell_type": "code",
   "execution_count": 54,
   "id": "cbde0af6",
   "metadata": {},
   "outputs": [
    {
     "data": {
      "text/html": [
       "<div>\n",
       "<style scoped>\n",
       "    .dataframe tbody tr th:only-of-type {\n",
       "        vertical-align: middle;\n",
       "    }\n",
       "\n",
       "    .dataframe tbody tr th {\n",
       "        vertical-align: top;\n",
       "    }\n",
       "\n",
       "    .dataframe thead th {\n",
       "        text-align: right;\n",
       "    }\n",
       "</style>\n",
       "<table border=\"1\" class=\"dataframe\">\n",
       "  <thead>\n",
       "    <tr style=\"text-align: right;\">\n",
       "      <th></th>\n",
       "      <th>percentage</th>\n",
       "    </tr>\n",
       "  </thead>\n",
       "  <tbody>\n",
       "    <tr>\n",
       "      <th>RDATE_5</th>\n",
       "      <td>99.990567</td>\n",
       "    </tr>\n",
       "    <tr>\n",
       "      <th>RAMNT_5</th>\n",
       "      <td>99.990567</td>\n",
       "    </tr>\n",
       "    <tr>\n",
       "      <th>RDATE_3</th>\n",
       "      <td>99.746363</td>\n",
       "    </tr>\n",
       "    <tr>\n",
       "      <th>RAMNT_3</th>\n",
       "      <td>99.746363</td>\n",
       "    </tr>\n",
       "    <tr>\n",
       "      <th>RDATE_4</th>\n",
       "      <td>99.705488</td>\n",
       "    </tr>\n",
       "    <tr>\n",
       "      <th>RAMNT_4</th>\n",
       "      <td>99.705488</td>\n",
       "    </tr>\n",
       "    <tr>\n",
       "      <th>RAMNT_6</th>\n",
       "      <td>99.186685</td>\n",
       "    </tr>\n",
       "    <tr>\n",
       "      <th>RDATE_6</th>\n",
       "      <td>99.186685</td>\n",
       "    </tr>\n",
       "    <tr>\n",
       "      <th>RAMNT_15</th>\n",
       "      <td>92.388798</td>\n",
       "    </tr>\n",
       "    <tr>\n",
       "      <th>RDATE_15</th>\n",
       "      <td>92.388798</td>\n",
       "    </tr>\n",
       "    <tr>\n",
       "      <th>RDATE_23</th>\n",
       "      <td>91.763091</td>\n",
       "    </tr>\n",
       "    <tr>\n",
       "      <th>RAMNT_23</th>\n",
       "      <td>91.763091</td>\n",
       "    </tr>\n",
       "    <tr>\n",
       "      <th>RDATE_20</th>\n",
       "      <td>91.732696</td>\n",
       "    </tr>\n",
       "    <tr>\n",
       "      <th>RAMNT_20</th>\n",
       "      <td>91.732696</td>\n",
       "    </tr>\n",
       "    <tr>\n",
       "      <th>RAMNT_7</th>\n",
       "      <td>90.677273</td>\n",
       "    </tr>\n",
       "    <tr>\n",
       "      <th>RDATE_7</th>\n",
       "      <td>90.677273</td>\n",
       "    </tr>\n",
       "    <tr>\n",
       "      <th>RAMNT_17</th>\n",
       "      <td>90.146942</td>\n",
       "    </tr>\n",
       "    <tr>\n",
       "      <th>RDATE_17</th>\n",
       "      <td>90.146942</td>\n",
       "    </tr>\n",
       "    <tr>\n",
       "      <th>RDATE_21</th>\n",
       "      <td>90.029556</td>\n",
       "    </tr>\n",
       "    <tr>\n",
       "      <th>RAMNT_21</th>\n",
       "      <td>90.029556</td>\n",
       "    </tr>\n",
       "    <tr>\n",
       "      <th>RAMNT_10</th>\n",
       "      <td>89.035970</td>\n",
       "    </tr>\n",
       "    <tr>\n",
       "      <th>RDATE_10</th>\n",
       "      <td>89.035970</td>\n",
       "    </tr>\n",
       "    <tr>\n",
       "      <th>RDATE_13</th>\n",
       "      <td>87.160944</td>\n",
       "    </tr>\n",
       "    <tr>\n",
       "      <th>RAMNT_13</th>\n",
       "      <td>87.160944</td>\n",
       "    </tr>\n",
       "    <tr>\n",
       "      <th>NUMCHLD</th>\n",
       "      <td>87.018404</td>\n",
       "    </tr>\n",
       "    <tr>\n",
       "      <th>RDATE_11</th>\n",
       "      <td>84.551209</td>\n",
       "    </tr>\n",
       "    <tr>\n",
       "      <th>RAMNT_11</th>\n",
       "      <td>84.551209</td>\n",
       "    </tr>\n",
       "    <tr>\n",
       "      <th>RDATE_19</th>\n",
       "      <td>83.359535</td>\n",
       "    </tr>\n",
       "    <tr>\n",
       "      <th>RAMNT_19</th>\n",
       "      <td>83.359535</td>\n",
       "    </tr>\n",
       "    <tr>\n",
       "      <th>RAMNT_9</th>\n",
       "      <td>82.461326</td>\n",
       "    </tr>\n",
       "    <tr>\n",
       "      <th>RDATE_9</th>\n",
       "      <td>82.461326</td>\n",
       "    </tr>\n",
       "    <tr>\n",
       "      <th>RDATE_24</th>\n",
       "      <td>81.409047</td>\n",
       "    </tr>\n",
       "    <tr>\n",
       "      <th>RAMNT_24</th>\n",
       "      <td>81.409047</td>\n",
       "    </tr>\n",
       "    <tr>\n",
       "      <th>RAMNT_18</th>\n",
       "      <td>79.270951</td>\n",
       "    </tr>\n",
       "    <tr>\n",
       "      <th>RDATE_18</th>\n",
       "      <td>79.270951</td>\n",
       "    </tr>\n",
       "    <tr>\n",
       "      <th>RAMNT_22</th>\n",
       "      <td>78.123297</td>\n",
       "    </tr>\n",
       "    <tr>\n",
       "      <th>RDATE_22</th>\n",
       "      <td>78.123297</td>\n",
       "    </tr>\n",
       "    <tr>\n",
       "      <th>RAMNT_8</th>\n",
       "      <td>77.495493</td>\n",
       "    </tr>\n",
       "    <tr>\n",
       "      <th>RDATE_8</th>\n",
       "      <td>77.495493</td>\n",
       "    </tr>\n",
       "    <tr>\n",
       "      <th>RDATE_14</th>\n",
       "      <td>75.561774</td>\n",
       "    </tr>\n",
       "    <tr>\n",
       "      <th>RAMNT_14</th>\n",
       "      <td>75.561774</td>\n",
       "    </tr>\n",
       "    <tr>\n",
       "      <th>RAMNT_12</th>\n",
       "      <td>73.064185</td>\n",
       "    </tr>\n",
       "    <tr>\n",
       "      <th>RDATE_12</th>\n",
       "      <td>73.064185</td>\n",
       "    </tr>\n",
       "    <tr>\n",
       "      <th>RAMNT_16</th>\n",
       "      <td>71.707961</td>\n",
       "    </tr>\n",
       "    <tr>\n",
       "      <th>RDATE_16</th>\n",
       "      <td>71.707961</td>\n",
       "    </tr>\n",
       "    <tr>\n",
       "      <th>ADATE_15</th>\n",
       "      <td>68.625540</td>\n",
       "    </tr>\n",
       "    <tr>\n",
       "      <th>ADATE_23</th>\n",
       "      <td>58.975810</td>\n",
       "    </tr>\n",
       "    <tr>\n",
       "      <th>MBCOLECT</th>\n",
       "      <td>55.458433</td>\n",
       "    </tr>\n",
       "    <tr>\n",
       "      <th>MAGFAML</th>\n",
       "      <td>55.395548</td>\n",
       "    </tr>\n",
       "    <tr>\n",
       "      <th>MBCRAFT</th>\n",
       "      <td>55.395548</td>\n",
       "    </tr>\n",
       "  </tbody>\n",
       "</table>\n",
       "</div>"
      ],
      "text/plain": [
       "          percentage\n",
       "RDATE_5    99.990567\n",
       "RAMNT_5    99.990567\n",
       "RDATE_3    99.746363\n",
       "RAMNT_3    99.746363\n",
       "RDATE_4    99.705488\n",
       "RAMNT_4    99.705488\n",
       "RAMNT_6    99.186685\n",
       "RDATE_6    99.186685\n",
       "RAMNT_15   92.388798\n",
       "RDATE_15   92.388798\n",
       "RDATE_23   91.763091\n",
       "RAMNT_23   91.763091\n",
       "RDATE_20   91.732696\n",
       "RAMNT_20   91.732696\n",
       "RAMNT_7    90.677273\n",
       "RDATE_7    90.677273\n",
       "RAMNT_17   90.146942\n",
       "RDATE_17   90.146942\n",
       "RDATE_21   90.029556\n",
       "RAMNT_21   90.029556\n",
       "RAMNT_10   89.035970\n",
       "RDATE_10   89.035970\n",
       "RDATE_13   87.160944\n",
       "RAMNT_13   87.160944\n",
       "NUMCHLD    87.018404\n",
       "RDATE_11   84.551209\n",
       "RAMNT_11   84.551209\n",
       "RDATE_19   83.359535\n",
       "RAMNT_19   83.359535\n",
       "RAMNT_9    82.461326\n",
       "RDATE_9    82.461326\n",
       "RDATE_24   81.409047\n",
       "RAMNT_24   81.409047\n",
       "RAMNT_18   79.270951\n",
       "RDATE_18   79.270951\n",
       "RAMNT_22   78.123297\n",
       "RDATE_22   78.123297\n",
       "RAMNT_8    77.495493\n",
       "RDATE_8    77.495493\n",
       "RDATE_14   75.561774\n",
       "RAMNT_14   75.561774\n",
       "RAMNT_12   73.064185\n",
       "RDATE_12   73.064185\n",
       "RAMNT_16   71.707961\n",
       "RDATE_16   71.707961\n",
       "ADATE_15   68.625540\n",
       "ADATE_23   58.975810\n",
       "MBCOLECT   55.458433\n",
       "MAGFAML    55.395548\n",
       "MBCRAFT    55.395548"
      ]
     },
     "execution_count": 54,
     "metadata": {},
     "output_type": "execute_result"
    }
   ],
   "source": [
    "nulls = pd.DataFrame(df.isna().sum()*100/len(df), columns=['percentage']) # Checking top 50 columns by null ammount in %\n",
    "nulls.sort_values('percentage', ascending = False).head(50)"
   ]
  },
  {
   "cell_type": "code",
   "execution_count": 55,
   "id": "c1310965",
   "metadata": {},
   "outputs": [],
   "source": [
    "drop_list = [] # creating a list with columns ro remove\n",
    "\n",
    "drop_list.append('OSOURCE')\n",
    "drop_list.append('ZIP')"
   ]
  },
  {
   "cell_type": "code",
   "execution_count": 56,
   "id": "3c207823",
   "metadata": {},
   "outputs": [
    {
     "data": {
      "text/plain": [
       "['OSOURCE', 'ZIP']"
      ]
     },
     "execution_count": 56,
     "metadata": {},
     "output_type": "execute_result"
    }
   ],
   "source": [
    "drop_list #current drop list"
   ]
  },
  {
   "cell_type": "code",
   "execution_count": 57,
   "id": "195c0ef7",
   "metadata": {},
   "outputs": [
    {
     "data": {
      "text/plain": [
       "['NUMCHLD',\n",
       " 'RDATE_3',\n",
       " 'RDATE_4',\n",
       " 'RDATE_5',\n",
       " 'RDATE_6',\n",
       " 'RDATE_7',\n",
       " 'RDATE_10',\n",
       " 'RDATE_13',\n",
       " 'RDATE_15',\n",
       " 'RDATE_17',\n",
       " 'RDATE_20',\n",
       " 'RDATE_21',\n",
       " 'RDATE_23',\n",
       " 'RAMNT_3',\n",
       " 'RAMNT_4',\n",
       " 'RAMNT_5',\n",
       " 'RAMNT_6',\n",
       " 'RAMNT_7',\n",
       " 'RAMNT_10',\n",
       " 'RAMNT_13',\n",
       " 'RAMNT_15',\n",
       " 'RAMNT_17',\n",
       " 'RAMNT_20',\n",
       " 'RAMNT_21',\n",
       " 'RAMNT_23']"
      ]
     },
     "execution_count": 57,
     "metadata": {},
     "output_type": "execute_result"
    }
   ],
   "source": [
    "nulls_over_85 = list(nulls[nulls['percentage'] > 85].index) #creating a list with columns that have over 85% nulls\n",
    "nulls_over_85"
   ]
  },
  {
   "cell_type": "code",
   "execution_count": 58,
   "id": "5c122fe3",
   "metadata": {},
   "outputs": [],
   "source": [
    "drop_list.extend(nulls_over_85) # extending current drop list with columns above"
   ]
  },
  {
   "cell_type": "code",
   "execution_count": 59,
   "id": "591999ef",
   "metadata": {},
   "outputs": [],
   "source": [
    "df1 = df.drop(columns=drop_list) # dropping columns from drop list and creating a new version (df1)"
   ]
  },
  {
   "cell_type": "code",
   "execution_count": 60,
   "id": "e24e77e1",
   "metadata": {},
   "outputs": [
    {
     "data": {
      "text/plain": [
       "(95412, 454)"
      ]
     },
     "execution_count": 60,
     "metadata": {},
     "output_type": "execute_result"
    }
   ],
   "source": [
    "df1.shape"
   ]
  },
  {
   "cell_type": "markdown",
   "id": "bfb82c3d",
   "metadata": {},
   "source": [
    "Below cleaning the \"GENDER\" column"
   ]
  },
  {
   "cell_type": "code",
   "execution_count": 65,
   "id": "09000aa4",
   "metadata": {},
   "outputs": [
    {
     "name": "stdout",
     "output_type": "stream",
     "text": [
      "F        51277\n",
      "M        39094\n",
      "other     5041\n",
      "Name: GENDER, dtype: int64\n"
     ]
    }
   ],
   "source": [
    "print(df1['GENDER'].value_counts())\n",
    "df1['GENDER'] = df1['GENDER'].fillna('F')"
   ]
  },
  {
   "cell_type": "code",
   "execution_count": 66,
   "id": "77a980f0",
   "metadata": {},
   "outputs": [],
   "source": [
    "df1['GENDER'] = df1['GENDER'].apply(lambda x: \"other\" if x != \"F\" and x != \"M\" else x) \n",
    "# bucketing all genders to 'other' if not in F or M"
   ]
  },
  {
   "cell_type": "code",
   "execution_count": 63,
   "id": "6cd3adc6",
   "metadata": {},
   "outputs": [
    {
     "data": {
      "text/plain": [
       "F        51277\n",
       "M        39094\n",
       "other     5041\n",
       "Name: GENDER, dtype: int64"
      ]
     },
     "execution_count": 63,
     "metadata": {},
     "output_type": "execute_result"
    }
   ],
   "source": [
    "df1['GENDER'].value_counts()"
   ]
  },
  {
   "cell_type": "code",
   "execution_count": null,
   "id": "9aba0b2c",
   "metadata": {},
   "outputs": [],
   "source": []
  }
 ],
 "metadata": {
  "kernelspec": {
   "display_name": "Python 3 (ipykernel)",
   "language": "python",
   "name": "python3"
  },
  "language_info": {
   "codemirror_mode": {
    "name": "ipython",
    "version": 3
   },
   "file_extension": ".py",
   "mimetype": "text/x-python",
   "name": "python",
   "nbconvert_exporter": "python",
   "pygments_lexer": "ipython3",
   "version": "3.10.9"
  }
 },
 "nbformat": 4,
 "nbformat_minor": 5
}
